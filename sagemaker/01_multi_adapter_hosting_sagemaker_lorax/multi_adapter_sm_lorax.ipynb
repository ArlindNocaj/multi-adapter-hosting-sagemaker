{
 "cells": [
  {
   "cell_type": "markdown",
   "id": "844f22ae-6b01-4a17-820b-83f9d34de23e",
   "metadata": {},
   "source": [
    "# Serve multiple LoRA adapters efficiently on SageMaker w/ LoRAX"
   ]
  },
  {
   "cell_type": "markdown",
   "id": "090cd38c-ad40-4a3e-b225-4d1f707a0c0e",
   "metadata": {},
   "source": [
    "In this tutorial, we will learn how to serve many Low-Rank Adapters (LoRA) on top of the same base model efficiently on the same GPU. In order to do this, we'll deploy the LoRA Exchange ([LoRAX](https://github.com/predibase/lorax/tree/main)) inference server to SageMaker Hosting. \n",
    "\n",
    "These are the steps we will take:\n",
    "\n",
    "1. [Setup our environment](#setup)\n",
    "2. [Build a new LoRAX container image compatible with SageMaker, push it to Amazon ECR](#container)\n",
    "3. [Download adapters from the HuggingFace Hub and upload them to S3](#download_adapter)\n",
    "4. [Deploy the extended LoRAX container to SageMaker](#deploy)\n",
    "5. [Compare outputs of the base model and the adapter model](#compare)\n",
    "6. [Benchmark our deployed endpoint under different traffic patterns - same adapter, and random access to many adapters](#benchmark)\n"
   ]
  },
  {
   "cell_type": "markdown",
   "id": "bf65e8be-3073-4436-b311-11a3de09e101",
   "metadata": {},
   "source": [
    "## What is LoRAX? \n",
    "\n",
    "LoRAX is a production-ready framework specialized in multi-adapter serving that  efficiently share the same GPU resources, which dramatically reduces the cost of serving without compromising on throughput or latency. Some of the features that enable this are: \n",
    "\n",
    "* Dynamic Adapter Loading - fine-tuned LoRA weights are loaded from storage (local or remote) just-in-time as requests come in at runtime\n",
    "* Tiered Weight Caching - fast exchanging of LoRA adapters between requests, and offloading of adapter weights to CPU and disk as they are not needed to avoid out-of-memory errors.\n",
    "* Continuous Multi-Adapter Batching - a fair scheduling policy that continuously batches requests targeted at different LoRA adapters so they can be processed in paralle, optimizing aggregate throughput.\n",
    "* Optimized Inference - high throughput and low latency optimizations including tensor parallelism, pre-compiled CUDA kernels ([flash-attention](https://arxiv.org/abs/2307.08691), [paged attention](https://arxiv.org/abs/2309.06180), [SGMV](https://arxiv.org/abs/2310.18547)), quantization, token streaming.\n",
    "\n",
    "You can read more about LoRAX [here](https://predibase.com/blog/lora-exchange-lorax-serve-100s-of-fine-tuned-llms-for-the-cost-of-one)."
   ]
  },
  {
   "cell_type": "markdown",
   "id": "a4372522-fb5d-4cad-be37-d4f21f794698",
   "metadata": {
    "tags": []
   },
   "source": [
    "<a id=\"setup\"></a>\n",
    "## Setup our environment "
   ]
  },
  {
   "cell_type": "code",
   "execution_count": 1,
   "id": "7fdf3acc-e2fc-48ca-a21e-4377c7638d7e",
   "metadata": {
    "tags": []
   },
   "outputs": [],
   "source": [
    "!pip install -U boto3 sagemaker huggingface_hub --quiet"
   ]
  },
  {
   "cell_type": "code",
   "execution_count": 2,
   "id": "47d8394b-5d69-4c02-97fe-d00eccc4da26",
   "metadata": {
    "scrolled": true,
    "tags": []
   },
   "outputs": [
    {
     "name": "stdout",
     "output_type": "stream",
     "text": [
      "sagemaker.config INFO - Not applying SDK defaults from location: /etc/xdg/sagemaker/config.yaml\n",
      "sagemaker.config INFO - Not applying SDK defaults from location: /home/sagemaker-user/.config/sagemaker/config.yaml\n",
      "sagemaker default S3 bucket: sagemaker-us-east-1-626723862963\n",
      "sagemaker role arn: arn:aws:iam::626723862963:role/service-role/AmazonSageMaker-ExecutionRole-20231214T145077\n",
      "sagemaker session region: us-east-1\n"
     ]
    }
   ],
   "source": [
    "import sagemaker\n",
    "import boto3\n",
    "sess = sagemaker.Session()\n",
    "\n",
    "# sagemaker session bucket -> used for uploading data, models and logs\n",
    "sagemaker_session_bucket=None\n",
    "if sagemaker_session_bucket is None and sess is not None:\n",
    "    # set to default bucket if a bucket name is not given\n",
    "    sagemaker_session_bucket = sess.default_bucket()\n",
    "\n",
    "try:\n",
    "    role = sagemaker.get_execution_role()\n",
    "except ValueError:\n",
    "    iam = boto3.client('iam')\n",
    "    role = iam.get_role(RoleName='sagemaker_execution_role')['Role']['Arn']\n",
    "\n",
    "sess = sagemaker.Session(default_bucket=sagemaker_session_bucket)\n",
    "region = sess.boto_region_name\n",
    "\n",
    "print(f\"sagemaker default S3 bucket: {sagemaker_session_bucket}\")\n",
    "print(f\"sagemaker role arn: {role}\")\n",
    "print(f\"sagemaker session region: {region}\")"
   ]
  },
  {
   "cell_type": "markdown",
   "id": "3da4bda3-93d0-456b-a53e-31e6caa74290",
   "metadata": {},
   "source": [
    "Make sure to login using your Huggingface Token, otherwise the container cannot access the model from HuggingFace Hub"
   ]
  },
  {
   "cell_type": "code",
   "execution_count": 3,
   "id": "76e5349c-c67c-4e8c-b392-c169213f446c",
   "metadata": {},
   "outputs": [],
   "source": [
    "from huggingface_hub import login\n",
    "from pathlib import Path\n",
    "from pathlib import Path\n",
    "\n",
    "hf_token_file = \"/home/sagemaker-user/.cache/huggingface/token\"\n",
    "if not Path(hf_token_file).is_file():\n",
    "    login()\n",
    "if not Path(hf_token_file).is_file():\n",
    "    raise Exception('Hugging Face access token is missing. Make sure to login with your access token.')\n",
    "\n",
    "hf_token = Path(\"/home/sagemaker-user/.cache/huggingface/token\").read_text()"
   ]
  },
  {
   "cell_type": "markdown",
   "id": "76eddcf1-0d92-4bcd-b644-4a0ca75d289c",
   "metadata": {},
   "source": [
    "## Activating Docker for Jupyterlab in Sagemaker Studio"
   ]
  },
  {
   "cell_type": "markdown",
   "id": "33de5a1a-3fb1-4ca3-9054-c44de16fac3b",
   "metadata": {},
   "source": [
    "Make sure to install docker in Sagemaker Studio Jupyterlab. This can also be run in terminal (File - New - Terminal)"
   ]
  },
  {
   "cell_type": "code",
   "execution_count": 4,
   "id": "94b268b3-3e4e-4acb-808c-5acb19cc06f0",
   "metadata": {},
   "outputs": [
    {
     "name": "stdout",
     "output_type": "stream",
     "text": [
      "Reading package lists...\n",
      "Building dependency tree...\n",
      "Reading state information...\n",
      "ca-certificates is already the newest version (20230311ubuntu0.22.04.1).\n",
      "curl is already the newest version (7.81.0-1ubuntu1.16).\n",
      "gnupg is already the newest version (2.2.27-3ubuntu2.1).\n",
      "0 upgraded, 0 newly installed, 0 to remove and 14 not upgraded.\n"
     ]
    },
    {
     "name": "stderr",
     "output_type": "stream",
     "text": [
      "gpg: cannot open '/dev/tty': No such device or address\n",
      "curl: (23) Failure writing output to destination\n"
     ]
    },
    {
     "name": "stdout",
     "output_type": "stream",
     "text": [
      "Hit:1 https://download.docker.com/linux/ubuntu jammy InRelease\n",
      "Hit:2 http://security.ubuntu.com/ubuntu jammy-security InRelease\n",
      "Hit:3 http://archive.ubuntu.com/ubuntu jammy InRelease\n",
      "Hit:4 http://archive.ubuntu.com/ubuntu jammy-updates InRelease\n",
      "Hit:5 http://archive.ubuntu.com/ubuntu jammy-backports InRelease\n",
      "Reading package lists...\n",
      "Reading package lists...\n",
      "Building dependency tree...\n",
      "Reading state information...\n",
      "docker-ce-cli is already the newest version (5:20.10.24~3-0~ubuntu-jammy).\n",
      "docker-compose-plugin is already the newest version (2.28.1-1~ubuntu.22.04~jammy).\n",
      "0 upgraded, 0 newly installed, 0 to remove and 13 not upgraded.\n",
      "Client: Docker Engine - Community\n",
      " Version:           20.10.24\n",
      " API version:       1.41\n",
      " Go version:        go1.19.7\n",
      " Git commit:        297e128\n",
      " Built:             Tue Apr  4 18:21:03 2023\n",
      " OS/Arch:           linux/amd64\n",
      " Context:           default\n",
      " Experimental:      true\n",
      "\n",
      "Server:\n",
      " Engine:\n",
      "  Version:          20.10.25\n",
      "  API version:      1.41 (minimum version 1.12)\n",
      "  Go version:       go1.20.10\n",
      "  Git commit:       5df983c\n",
      "  Built:            Fri Oct 13 22:46:59 2023\n",
      "  OS/Arch:          linux/amd64\n",
      "  Experimental:     false\n",
      " containerd:\n",
      "  Version:          1.7.11\n",
      "  GitCommit:        64b8a811b07ba6288238eefc14d898ee0b5b99ba\n",
      " runc:\n",
      "  Version:          1.1.11\n",
      "  GitCommit:        4bccb38cc9cf198d52bebf2b3a90cd14e7af8c06\n",
      " docker-init:\n",
      "  Version:          0.19.0\n",
      "  GitCommit:        de40ad0\n"
     ]
    }
   ],
   "source": [
    "%%bash\n",
    "./setup_docker.sh"
   ]
  },
  {
   "cell_type": "markdown",
   "id": "d73d6fd3-5d59-4bc2-8cf2-ad4c32d072b7",
   "metadata": {},
   "source": [
    "<a id=\"container\"></a>\n",
    "## Build a new LoRAX container image compatible with SageMaker, push it to Amazon ECR"
   ]
  },
  {
   "cell_type": "markdown",
   "id": "5be9d085-897f-46a4-875f-798f0ebb1f61",
   "metadata": {},
   "source": [
    "This example includes a `Dockerfile` and `sagemaker_entrypoint.sh` in the `sagemaker_lorax` directory. Building this new container image makes LoRAX compatible with SageMaker Hosting, namely launching the server on port 8080 via the container's `ENTRYPOINT` instruction. [Here](https://docs.aws.amazon.com/sagemaker/latest/dg/your-algorithms-inference-code.html#your-algorithms-inference-code-run-image) you can find the basic interfaces required to adapt any container for deployment on Sagemaker Hosting."
   ]
  },
  {
   "cell_type": "code",
   "execution_count": 5,
   "id": "dd0eafe8-2398-43e0-9dd6-e211c23ba5d3",
   "metadata": {
    "tags": []
   },
   "outputs": [
    {
     "name": "stdout",
     "output_type": "stream",
     "text": [
      "#!/bin/bash\n",
      "\n",
      "if [[ -z \"${HF_MODEL_ID}\" ]]; then\n",
      "  echo \"HF_MODEL_ID must be set\"\n",
      "  exit 1\n",
      "fi\n",
      "export MODEL_ID=\"${HF_MODEL_ID}\"\n",
      "\n",
      "if [[ -n \"${HF_MODEL_REVISION}\" ]]; then\n",
      "  export REVISION=\"${HF_MODEL_REVISION}\"\n",
      "fi\n",
      "\n",
      "if [[ -n \"${SM_NUM_GPUS}\" ]]; then\n",
      "  export NUM_SHARD=\"${SM_NUM_GPUS}\"\n",
      "fi\n",
      "\n",
      "if [[ -n \"${HF_MODEL_QUANTIZE}\" ]]; then\n",
      "  export QUANTIZE=\"${HF_MODEL_QUANTIZE}\"\n",
      "fi\n",
      "\n",
      "if [[ -n \"${HF_MODEL_TRUST_REMOTE_CODE}\" ]]; then\n",
      "  export TRUST_REMOTE_CODE=\"${HF_MODEL_TRUST_REMOTE_CODE}\"\n",
      "fi\n",
      "\n",
      "if [[ -z \"${ADAPTER_BUCKET}\" ]]; then\n",
      "  echo \"Warning: ADAPTER_BUCKET not set. Only able to load local or HuggingFace Hub models.\"\n",
      "else\n",
      "  export PREDIBASE_MODEL_BUCKET=\"${ADAPTER_BUCKET}\"\n",
      "fi\n",
      "\n",
      "lorax-launcher --port 8080\n"
     ]
    }
   ],
   "source": [
    "!cat sagemaker_lorax/sagemaker_entrypoint.sh"
   ]
  },
  {
   "cell_type": "code",
   "execution_count": 6,
   "id": "6f2cc01a-13e6-4d6e-9637-00dc2e94050d",
   "metadata": {
    "tags": []
   },
   "outputs": [
    {
     "name": "stdout",
     "output_type": "stream",
     "text": [
      "ARG VERSION\n",
      "FROM ghcr.io/predibase/lorax:$VERSION\n",
      "\n",
      "COPY sagemaker_entrypoint.sh entrypoint.sh\n",
      "RUN chmod +x entrypoint.sh\n",
      "\n",
      "ENTRYPOINT [\"./entrypoint.sh\"]\n"
     ]
    }
   ],
   "source": [
    "!cat sagemaker_lorax/Dockerfile"
   ]
  },
  {
   "cell_type": "markdown",
   "id": "80f0c937-9e17-42ea-afc5-31d5dbff6331",
   "metadata": {},
   "source": [
    "We build the new container image and push it to a new ECR repository. Note SageMaker [supports private Docker registries](https://docs.aws.amazon.com/sagemaker/latest/dg/your-algorithms-containers-inference-private.html) as well."
   ]
  },
  {
   "cell_type": "code",
   "execution_count": 7,
   "id": "02779726-b57f-472b-9d09-6a1aabc56a10",
   "metadata": {},
   "outputs": [
    {
     "name": "stdout",
     "output_type": "stream",
     "text": [
      "Sending build context to Docker daemon  6.656kB\n",
      "Step 1/6 : ARG VERSION\n",
      "Step 2/6 : FROM ghcr.io/predibase/lorax:$VERSION\n",
      " ---> 818d3df46e9f\n",
      "Step 3/6 : COPY sagemaker_entrypoint.sh entrypoint.sh\n",
      " ---> Using cache\n",
      " ---> 2fa760a3746f\n",
      "Step 4/6 : RUN chmod +x entrypoint.sh\n",
      " ---> Using cache\n",
      " ---> 6ae757226c23\n",
      "Step 5/6 : ENTRYPOINT [\"./entrypoint.sh\"]\n",
      " ---> Using cache\n",
      " ---> 54ebaedb5af2\n",
      "Step 6/6 : LABEL com.amazon.studio.user.resources=true\n",
      " ---> Using cache\n",
      " ---> 3bc09723cfdc\n",
      "Successfully built 3bc09723cfdc\n",
      "Successfully tagged sagemaker-lorax:0.10.0\n"
     ]
    },
    {
     "name": "stderr",
     "output_type": "stream",
     "text": [
      "WARNING! Your password will be stored unencrypted in /home/sagemaker-user/.docker/config.json.\n",
      "Configure a credential helper to remove this warning. See\n",
      "https://docs.docker.com/engine/reference/commandline/login/#credentials-store\n",
      "\n"
     ]
    },
    {
     "name": "stdout",
     "output_type": "stream",
     "text": [
      "Login Succeeded\n",
      "The push refers to repository [626723862963.dkr.ecr.us-east-1.amazonaws.com/sagemaker-lorax]\n",
      "eee68f0b7a7c: Preparing\n",
      "99c0bbbfa390: Preparing\n",
      "c98a4f1a88fc: Preparing\n",
      "5f70bf18a086: Preparing\n",
      "fb8e18c64523: Preparing\n",
      "e2b8328d0229: Preparing\n",
      "e41477b8e5cb: Preparing\n",
      "7841eb6f10fc: Preparing\n",
      "c9ca3d407728: Preparing\n",
      "e5c1370404fd: Preparing\n",
      "f85389ab8ff7: Preparing\n",
      "017eeb2b2d9e: Preparing\n",
      "5f70bf18a086: Preparing\n",
      "9a81f03b04db: Preparing\n",
      "660382ab1ce7: Preparing\n",
      "6b69399f9db5: Preparing\n",
      "222b3908765b: Preparing\n",
      "a13675b9162b: Preparing\n",
      "becee371e3e9: Preparing\n",
      "9bf94b7b5577: Preparing\n",
      "a1b58a422b8a: Preparing\n",
      "61febc4144d5: Preparing\n",
      "e58c2fedc084: Preparing\n",
      "2edaa1380312: Preparing\n",
      "64fa1ec0e95f: Preparing\n",
      "38c93275b4c0: Preparing\n",
      "50596dd5579b: Preparing\n",
      "e431329f16b7: Preparing\n",
      "74bb2a0c3408: Preparing\n",
      "5f70bf18a086: Preparing\n",
      "cd77f58b80cd: Preparing\n",
      "e4b1bddcbe63: Preparing\n",
      "765423415d69: Preparing\n",
      "7b9433fba79b: Preparing\n",
      "256d88da4185: Preparing\n",
      "becee371e3e9: Waiting\n",
      "9bf94b7b5577: Waiting\n",
      "a1b58a422b8a: Waiting\n",
      "61febc4144d5: Waiting\n",
      "e58c2fedc084: Waiting\n",
      "2edaa1380312: Waiting\n",
      "64fa1ec0e95f: Waiting\n",
      "38c93275b4c0: Waiting\n",
      "50596dd5579b: Waiting\n",
      "e431329f16b7: Waiting\n",
      "74bb2a0c3408: Waiting\n",
      "cd77f58b80cd: Waiting\n",
      "e4b1bddcbe63: Waiting\n",
      "765423415d69: Waiting\n",
      "7b9433fba79b: Waiting\n",
      "256d88da4185: Waiting\n",
      "f85389ab8ff7: Waiting\n",
      "e2b8328d0229: Waiting\n",
      "017eeb2b2d9e: Waiting\n",
      "9a81f03b04db: Waiting\n",
      "e41477b8e5cb: Waiting\n",
      "660382ab1ce7: Waiting\n",
      "6b69399f9db5: Waiting\n",
      "222b3908765b: Waiting\n",
      "a13675b9162b: Waiting\n",
      "7841eb6f10fc: Waiting\n",
      "e5c1370404fd: Waiting\n",
      "c9ca3d407728: Waiting\n",
      "5f70bf18a086: Layer already exists\n",
      "fb8e18c64523: Layer already exists\n",
      "99c0bbbfa390: Layer already exists\n",
      "c98a4f1a88fc: Layer already exists\n",
      "eee68f0b7a7c: Layer already exists\n",
      "e41477b8e5cb: Layer already exists\n",
      "e2b8328d0229: Layer already exists\n",
      "c9ca3d407728: Layer already exists\n",
      "e5c1370404fd: Layer already exists\n",
      "7841eb6f10fc: Layer already exists\n",
      "f85389ab8ff7: Layer already exists\n",
      "017eeb2b2d9e: Layer already exists\n",
      "9a81f03b04db: Layer already exists\n",
      "6b69399f9db5: Layer already exists\n",
      "660382ab1ce7: Layer already exists\n",
      "a13675b9162b: Layer already exists\n",
      "222b3908765b: Layer already exists\n",
      "9bf94b7b5577: Layer already exists\n",
      "a1b58a422b8a: Layer already exists\n",
      "becee371e3e9: Layer already exists\n",
      "e58c2fedc084: Layer already exists\n",
      "61febc4144d5: Layer already exists\n",
      "2edaa1380312: Layer already exists\n",
      "64fa1ec0e95f: Layer already exists\n",
      "38c93275b4c0: Layer already exists\n",
      "50596dd5579b: Layer already exists\n",
      "e431329f16b7: Layer already exists\n",
      "74bb2a0c3408: Layer already exists\n",
      "e4b1bddcbe63: Layer already exists\n",
      "cd77f58b80cd: Layer already exists\n",
      "765423415d69: Layer already exists\n",
      "7b9433fba79b: Layer already exists\n",
      "256d88da4185: Layer already exists\n",
      "0.10.0: digest: sha256:6cef2615c34d4335859d7c8b996477ece504fd4c8e2e13eefac7b6e2d005fbe1 size: 7676\n"
     ]
    }
   ],
   "source": [
    "%%bash -s {region}\n",
    "algorithm_name=\"sagemaker-lorax\"  # name of your algorithm\n",
    "tag=\"0.10.0\"\n",
    "region=$1\n",
    "\n",
    "account=$(aws sts get-caller-identity --query Account --output text)\n",
    "\n",
    "image_uri=\"${account}.dkr.ecr.${region}.amazonaws.com/${algorithm_name}:${tag}\"\n",
    "\n",
    "# If the repository doesn't exist in ECR, create it.\n",
    "aws ecr describe-repositories --repository-names \"${algorithm_name}\" > /dev/null 2>&1\n",
    "\n",
    "if [ $? -ne 0 ]\n",
    "then\n",
    "    aws ecr create-repository --repository-name \"${algorithm_name}\" --region $region > /dev/null\n",
    "fi\n",
    "\n",
    "cd sagemaker_lorax/ && docker build --network=sagemaker --build-arg VERSION=$tag -t ${algorithm_name}:${tag} .\n",
    "\n",
    "# Authenticate Docker to an Amazon ECR registry\n",
    "aws ecr get-login-password --region ${region} | docker login --username AWS --password-stdin ${account}.dkr.ecr.${region}.amazonaws.com\n",
    "\n",
    "# Tag the image\n",
    "docker tag ${algorithm_name}:${tag} ${image_uri}\n",
    "\n",
    "# Push the image to the repository\n",
    "docker push ${image_uri}\n",
    "\n",
    "# Save image name to tmp file to use when deploying endpoint\n",
    "echo $image_uri > /tmp/image_uri"
   ]
  },
  {
   "cell_type": "markdown",
   "id": "a0d38628-9317-408f-906d-e5c9ce80fbb7",
   "metadata": {
    "tags": []
   },
   "source": [
    "<a id=\"download_adapter\"></a>\n",
    "## Download adapter from HuggingFace Hub and push it to S3"
   ]
  },
  {
   "cell_type": "markdown",
   "id": "4f6cb518-220c-491f-ae30-50f14f2b4ec6",
   "metadata": {
    "tags": []
   },
   "source": [
    "We are going to simulate storing our adapter weights on S3, and having LoRAX load them dynamically as we invoke them. This enables most scenarios, including deployment after you’ve finetuned your own adapter and pushed it to S3, as well as securing deployments with no internet access inside your VPC, as detailed in this [blog post](https://www.philschmid.de/sagemaker-llm-vpc#2-upload-the-model-to-amazon-s3).\n",
    "\n",
    "We first download an adapter trained with Mistral Instruct v0.1 as the base model to a local directory. This particular adapter was trained on GSM8K, a grade school math dataset."
   ]
  },
  {
   "cell_type": "code",
   "execution_count": 8,
   "id": "c3230c3b-7740-4727-b8a1-eda109afe077",
   "metadata": {
    "tags": []
   },
   "outputs": [
    {
     "name": "stderr",
     "output_type": "stream",
     "text": [
      "/opt/conda/lib/python3.10/site-packages/huggingface_hub/file_download.py:1194: UserWarning: `local_dir_use_symlinks` parameter is deprecated and will be ignored. The process to download files to a local folder has been updated and do not rely on symlinks anymore. You only need to pass a destination folder as`local_dir`.\n",
      "For more details, check out https://huggingface.co/docs/huggingface_hub/main/en/guides/download#download-files-to-local-folder.\n",
      "  warnings.warn(\n"
     ]
    },
    {
     "data": {
      "application/vnd.jupyter.widget-view+json": {
       "model_id": "14be3851976844ec9223099534ad638b",
       "version_major": 2,
       "version_minor": 0
      },
      "text/plain": [
       "Fetching 5 files:   0%|          | 0/5 [00:00<?, ?it/s]"
      ]
     },
     "metadata": {},
     "output_type": "display_data"
    },
    {
     "data": {
      "text/plain": [
       "'/home/sagemaker-user/multi-adapter-hosting-sagemaker/sagemaker/01_multi_adapter_hosting_sagemaker_lorax/mistral-adapter'"
      ]
     },
     "execution_count": 8,
     "metadata": {},
     "output_type": "execute_result"
    }
   ],
   "source": [
    "from pathlib import Path\n",
    "from huggingface_hub import snapshot_download\n",
    "\n",
    "HF_MODEL_ID = \"vineetsharma/qlora-adapter-Mistral-7B-Instruct-v0.1-gsm8k\"\n",
    "# create model dir\n",
    "model_dir = Path('mistral-adapter')\n",
    "model_dir.mkdir(exist_ok=True)\n",
    "\n",
    "# Download model from Hugging Face into model_dir\n",
    "snapshot_download(\n",
    "    HF_MODEL_ID,\n",
    "    local_dir=str(model_dir), # download to model dir\n",
    "    local_dir_use_symlinks=False, # use no symlinks to save disk space\n",
    "    revision=\"main\", # use a specific revision, e.g. refs/pr/21\n",
    ")"
   ]
  },
  {
   "cell_type": "markdown",
   "id": "2f8b00f3-ca40-4b87-9456-71df3e6efe95",
   "metadata": {},
   "source": [
    "We copy this same adapter `n_adapters` times to different S3 prefixes in our SageMaker session bucket, simulating a large number of adapters we want to serve on the same endpoint and underlying GPU."
   ]
  },
  {
   "cell_type": "code",
   "execution_count": 9,
   "id": "5d9a490c-a540-4e0d-8a44-a8b886bbfac0",
   "metadata": {
    "tags": []
   },
   "outputs": [
    {
     "name": "stdout",
     "output_type": "stream",
     "text": [
      "Uploaded folder to S3 with prefix: sagemaker-us-east-1-626723862963/lorax/mistral-adapters/01\n",
      "Uploaded folder to S3 with prefix: sagemaker-us-east-1-626723862963/lorax/mistral-adapters/02\n",
      "Uploaded folder to S3 with prefix: sagemaker-us-east-1-626723862963/lorax/mistral-adapters/03\n",
      "Uploaded folder to S3 with prefix: sagemaker-us-east-1-626723862963/lorax/mistral-adapters/04\n",
      "Uploaded folder to S3 with prefix: sagemaker-us-east-1-626723862963/lorax/mistral-adapters/05\n",
      "Uploaded folder to S3 with prefix: sagemaker-us-east-1-626723862963/lorax/mistral-adapters/06\n",
      "Uploaded folder to S3 with prefix: sagemaker-us-east-1-626723862963/lorax/mistral-adapters/07\n",
      "Uploaded folder to S3 with prefix: sagemaker-us-east-1-626723862963/lorax/mistral-adapters/08\n",
      "Uploaded folder to S3 with prefix: sagemaker-us-east-1-626723862963/lorax/mistral-adapters/09\n",
      "Uploaded folder to S3 with prefix: sagemaker-us-east-1-626723862963/lorax/mistral-adapters/10\n",
      "Uploaded folder to S3 with prefix: sagemaker-us-east-1-626723862963/lorax/mistral-adapters/11\n",
      "Uploaded folder to S3 with prefix: sagemaker-us-east-1-626723862963/lorax/mistral-adapters/12\n",
      "Uploaded folder to S3 with prefix: sagemaker-us-east-1-626723862963/lorax/mistral-adapters/13\n",
      "Uploaded folder to S3 with prefix: sagemaker-us-east-1-626723862963/lorax/mistral-adapters/14\n",
      "Uploaded folder to S3 with prefix: sagemaker-us-east-1-626723862963/lorax/mistral-adapters/15\n",
      "Uploaded folder to S3 with prefix: sagemaker-us-east-1-626723862963/lorax/mistral-adapters/16\n",
      "Uploaded folder to S3 with prefix: sagemaker-us-east-1-626723862963/lorax/mistral-adapters/17\n",
      "Uploaded folder to S3 with prefix: sagemaker-us-east-1-626723862963/lorax/mistral-adapters/18\n",
      "Uploaded folder to S3 with prefix: sagemaker-us-east-1-626723862963/lorax/mistral-adapters/19\n",
      "Uploaded folder to S3 with prefix: sagemaker-us-east-1-626723862963/lorax/mistral-adapters/20\n",
      "Uploaded folder to S3 with prefix: sagemaker-us-east-1-626723862963/lorax/mistral-adapters/21\n",
      "Uploaded folder to S3 with prefix: sagemaker-us-east-1-626723862963/lorax/mistral-adapters/22\n",
      "Uploaded folder to S3 with prefix: sagemaker-us-east-1-626723862963/lorax/mistral-adapters/23\n",
      "Uploaded folder to S3 with prefix: sagemaker-us-east-1-626723862963/lorax/mistral-adapters/24\n",
      "Uploaded folder to S3 with prefix: sagemaker-us-east-1-626723862963/lorax/mistral-adapters/25\n",
      "Uploaded folder to S3 with prefix: sagemaker-us-east-1-626723862963/lorax/mistral-adapters/26\n",
      "Uploaded folder to S3 with prefix: sagemaker-us-east-1-626723862963/lorax/mistral-adapters/27\n",
      "Uploaded folder to S3 with prefix: sagemaker-us-east-1-626723862963/lorax/mistral-adapters/28\n",
      "Uploaded folder to S3 with prefix: sagemaker-us-east-1-626723862963/lorax/mistral-adapters/29\n",
      "Uploaded folder to S3 with prefix: sagemaker-us-east-1-626723862963/lorax/mistral-adapters/30\n",
      "Uploaded folder to S3 with prefix: sagemaker-us-east-1-626723862963/lorax/mistral-adapters/31\n",
      "Uploaded folder to S3 with prefix: sagemaker-us-east-1-626723862963/lorax/mistral-adapters/32\n",
      "Uploaded folder to S3 with prefix: sagemaker-us-east-1-626723862963/lorax/mistral-adapters/33\n",
      "Uploaded folder to S3 with prefix: sagemaker-us-east-1-626723862963/lorax/mistral-adapters/34\n",
      "Uploaded folder to S3 with prefix: sagemaker-us-east-1-626723862963/lorax/mistral-adapters/35\n",
      "Uploaded folder to S3 with prefix: sagemaker-us-east-1-626723862963/lorax/mistral-adapters/36\n",
      "Uploaded folder to S3 with prefix: sagemaker-us-east-1-626723862963/lorax/mistral-adapters/37\n",
      "Uploaded folder to S3 with prefix: sagemaker-us-east-1-626723862963/lorax/mistral-adapters/38\n",
      "Uploaded folder to S3 with prefix: sagemaker-us-east-1-626723862963/lorax/mistral-adapters/39\n",
      "Uploaded folder to S3 with prefix: sagemaker-us-east-1-626723862963/lorax/mistral-adapters/40\n"
     ]
    }
   ],
   "source": [
    "import os\n",
    "\n",
    "s3 = boto3.client('s3')\n",
    "\n",
    "def upload_folder_to_s3(local_path, s3_bucket, s3_prefix):\n",
    "    for root, dirs, files in os.walk(local_path):\n",
    "        for file in files:\n",
    "            local_file_path = os.path.join(root, file)\n",
    "            s3_object_key = os.path.join(s3_prefix, os.path.relpath(local_file_path, local_path))\n",
    "            s3.upload_file(local_file_path, s3_bucket, s3_object_key)\n",
    "\n",
    "# Upload the folder n_adapters times under different prefixes\n",
    "n_adapters=40\n",
    "base_prefix = 'lorax/mistral-adapters'\n",
    "for i in range(1, n_adapters+1):\n",
    "    prefix = f'{base_prefix}/0{i}' if i < 10 else f'{base_prefix}/{i}'\n",
    "    upload_folder_to_s3(model_dir, sagemaker_session_bucket, prefix)\n",
    "    print(f'Uploaded folder to S3 with prefix: {sagemaker_session_bucket}/{prefix}')"
   ]
  },
  {
   "cell_type": "markdown",
   "id": "775ed1b2-8b7c-4e9b-bace-7ace5f78e1ca",
   "metadata": {},
   "source": [
    "<a id=\"deploy\"></a>\n",
    "## Deploy SageMaker endpoint\n"
   ]
  },
  {
   "cell_type": "markdown",
   "id": "70c24eae-766a-4ec7-8ecf-de45f1092051",
   "metadata": {},
   "source": [
    "Now we deploy a SageMaker endpoint, pointing to our SageMaker session bucket as the ADAPTER_BUCKET env variable, which enables downloading adapters from S3."
   ]
  },
  {
   "cell_type": "code",
   "execution_count": 10,
   "id": "faea444e-9f68-4a08-8137-d9225d9a529d",
   "metadata": {},
   "outputs": [
    {
     "name": "stdout",
     "output_type": "stream",
     "text": [
      "Requirement already satisfied: huggingface_hub in /opt/conda/lib/python3.10/site-packages (0.23.4)\n",
      "Requirement already satisfied: filelock in /opt/conda/lib/python3.10/site-packages (from huggingface_hub) (3.14.0)\n",
      "Requirement already satisfied: fsspec>=2023.5.0 in /opt/conda/lib/python3.10/site-packages (from huggingface_hub) (2023.6.0)\n",
      "Requirement already satisfied: packaging>=20.9 in /opt/conda/lib/python3.10/site-packages (from huggingface_hub) (23.2)\n",
      "Requirement already satisfied: pyyaml>=5.1 in /opt/conda/lib/python3.10/site-packages (from huggingface_hub) (6.0.1)\n",
      "Requirement already satisfied: requests in /opt/conda/lib/python3.10/site-packages (from huggingface_hub) (2.31.0)\n",
      "Requirement already satisfied: tqdm>=4.42.1 in /opt/conda/lib/python3.10/site-packages (from huggingface_hub) (4.66.4)\n",
      "Requirement already satisfied: typing-extensions>=3.7.4.3 in /opt/conda/lib/python3.10/site-packages (from huggingface_hub) (4.11.0)\n",
      "Requirement already satisfied: charset-normalizer<4,>=2 in /opt/conda/lib/python3.10/site-packages (from requests->huggingface_hub) (3.3.2)\n",
      "Requirement already satisfied: idna<4,>=2.5 in /opt/conda/lib/python3.10/site-packages (from requests->huggingface_hub) (3.7)\n",
      "Requirement already satisfied: urllib3<3,>=1.21.1 in /opt/conda/lib/python3.10/site-packages (from requests->huggingface_hub) (1.26.18)\n",
      "Requirement already satisfied: certifi>=2017.4.17 in /opt/conda/lib/python3.10/site-packages (from requests->huggingface_hub) (2024.2.2)\n",
      "Note: you may need to restart the kernel to use updated packages.\n"
     ]
    }
   ],
   "source": [
    "pip install --upgrade huggingface_hub"
   ]
  },
  {
   "cell_type": "code",
   "execution_count": null,
   "id": "52e4f126-ebc8-4c9c-8646-f3f6b8e349fa",
   "metadata": {},
   "outputs": [],
   "source": []
  },
  {
   "cell_type": "code",
   "execution_count": 11,
   "id": "02925d2b-147c-4c84-af40-cc7c32fa7993",
   "metadata": {
    "tags": []
   },
   "outputs": [],
   "source": [
    "import json\n",
    "import datetime\n",
    "\n",
    "from sagemaker import Model\n",
    "from sagemaker.serializers import JSONSerializer\n",
    "from sagemaker.deserializers import JSONDeserializer\n",
    "\n",
    "# Retrieve image_uri from tmp file\n",
    "image_uri = !cat /tmp/image_uri\n",
    "# Increased health check timeout to give time for model download\n",
    "health_check_timeout = 800\n",
    "number_of_gpu = 1\n",
    "instance_type = \"ml.g5.2xlarge\"\n",
    "endpoint_name = sagemaker.utils.name_from_base(\"sm-lorax\")\n",
    "\n",
    "# Model and Endpoint configuration parameters\n",
    "config = {\n",
    "  'HF_MODEL_ID': \"mistralai/Mistral-7B-Instruct-v0.1\", # model_id from hf.co/models\n",
    "  'HUGGING_FACE_HUB_TOKEN': hf_token,\n",
    "  'SM_NUM_GPUS': json.dumps(number_of_gpu), # Number of GPU used per replica\n",
    "  'MAX_INPUT_LENGTH': json.dumps(1024),  # Max length of input text\n",
    "  'MAX_TOTAL_TOKENS': json.dumps(4096),  # Max length of the generation (including input text)\n",
    "  'ADAPTER_BUCKET': sagemaker_session_bucket,\n",
    "}\n",
    "\n",
    "lorax_model = Model(\n",
    "    image_uri=image_uri[0],\n",
    "    role=role,\n",
    "    env=config\n",
    ")\n"
   ]
  },
  {
   "cell_type": "code",
   "execution_count": null,
   "id": "f781e037-6612-4792-82d4-e888d8521661",
   "metadata": {},
   "outputs": [],
   "source": [
    "\n",
    "lorax_predictor = lorax_model.deploy(\n",
    "    endpoint_name=endpoint_name,\n",
    "    initial_instance_count=1,\n",
    "    instance_type=instance_type,\n",
    "    container_startup_health_check_timeout=health_check_timeout, \n",
    "    serializer=JSONSerializer(),\n",
    "    deserializer=JSONDeserializer()\n",
    ")"
   ]
  },
  {
   "cell_type": "markdown",
   "id": "0da823e3-d1ed-42db-b701-5c9ef5a7ff0e",
   "metadata": {},
   "source": [
    "## Start Inference"
   ]
  },
  {
   "cell_type": "code",
   "execution_count": null,
   "id": "c53c9e7a-8a1e-4b02-bc60-77f87f7aa5b1",
   "metadata": {},
   "outputs": [],
   "source": [
    "# You can reinstantiate the Predictor object if you restart the notebook or Predictor is None\n",
    "from sagemaker.predictor import Predictor\n",
    "from sagemaker.serializers import JSONSerializer\n",
    "from sagemaker.deserializers import JSONDeserializer\n",
    "#n_adapters=40\n",
    "#base_prefix = 'lorax/mistral-adapters'\n",
    "#endpoint_name = \"sm-lorax-2024-06-30-14-57-07-207\"\n",
    "\n",
    "lorax_predictor = Predictor(\n",
    "    endpoint_name,\n",
    "    serializer=JSONSerializer(),\n",
    "    deserializer=JSONDeserializer(),\n",
    ")"
   ]
  },
  {
   "cell_type": "markdown",
   "id": "3308c12e-365c-4737-90f5-998f849beffe",
   "metadata": {},
   "source": [
    "<a id=\"compare\"></a>\n",
    "## Invoke base model and adapter, compare outputs"
   ]
  },
  {
   "cell_type": "markdown",
   "id": "2d0ae3e2-8634-4e4d-957a-a3d81d7490e7",
   "metadata": {},
   "source": [
    "We can invoke the base Mistral model, as well as any of the adapters in our bucket! LoRAX will take care of downloading them, continuously batch requests for different adapters, and manage DRAM and RAM by loading/offloading adapters.\n",
    "\n",
    "Let’s inspect the difference between the base model’s response and the adapter’s response:"
   ]
  },
  {
   "cell_type": "markdown",
   "id": "049ea512-e0af-40c5-ba3e-1253eedfd011",
   "metadata": {
    "tags": []
   },
   "source": [
    "<div class=\"alert alert-block alert-info\">\n",
    "⚠️ I observed a weird error that I haven't debugged yet, where S3 download failed for adapters ID 1 through 5, but worked as expected for all other adapters. Something with the S3 prefix. Added 0 before adapter id if id < 10 as a workaround.\n",
    "</div>"
   ]
  },
  {
   "cell_type": "code",
   "execution_count": null,
   "id": "167babae-0fb9-4a7f-aba9-fe4e266ebdd1",
   "metadata": {
    "tags": []
   },
   "outputs": [],
   "source": [
    "prompt = '[INST] Natalia sold clips to 48 of her friends in April, and then she sold half as many clips in May. How many clips did Natalia sell altogether in April and May? [/INST]'\n",
    "\n",
    "payload_base = {\n",
    "    \"inputs\": prompt,\n",
    "    \"parameters\": {\n",
    "        \"max_new_tokens\": 64,\n",
    "    }\n",
    "}\n",
    "\n",
    "payload_adapter = {\n",
    "\"inputs\": prompt,\n",
    "    \"parameters\": {\n",
    "        \"max_new_tokens\": 64,\n",
    "        \"adapter_id\": f'{base_prefix}/01',\n",
    "        \"adapter_source\": \"s3\"\n",
    "    }\n",
    "}\n",
    "\n",
    "response_base = lorax_predictor.predict(payload_base)\n",
    "response_adapter = lorax_predictor.predict(payload_adapter)\n",
    "\n",
    "print(f'Base model output:\\n-------------\\n {response_base[0][\"generated_text\"]}')\n",
    "print(f'Adapter output:\\n-------------\\n {response_adapter[0][\"generated_text\"]}')"
   ]
  },
  {
   "cell_type": "markdown",
   "id": "e1010056-9b46-4c62-880c-9f4552aa2af7",
   "metadata": {
    "tags": []
   },
   "source": [
    "<a id=\"benchmark\"></a>\n",
    "## Benchmark single adapter vs. random access to adapters\n",
    "\n"
   ]
  },
  {
   "cell_type": "markdown",
   "id": "67667c2d-c154-42dc-9be7-d577f8855e1d",
   "metadata": {},
   "source": [
    "First, we individually call each of the adapters in sequence, to make sure they are previously downloaded to the endpoint instance’s disk. We want to exclude S3 download latency from the benchmark metrics."
   ]
  },
  {
   "cell_type": "code",
   "execution_count": null,
   "id": "8cdeea08-31e8-411c-a57b-c4acdd702f40",
   "metadata": {
    "tags": []
   },
   "outputs": [],
   "source": [
    "from tqdm import tqdm\n",
    "\n",
    "for i in tqdm(range(1,n_adapters+1)):\n",
    "    adapter_id = f'{base_prefix}/0{i}' if i < 10 else f'{base_prefix}/{i}'\n",
    "    payload_adapter = {\n",
    "    \"inputs\": prompt,\n",
    "    \"parameters\": {\n",
    "        \"max_new_tokens\": 64,\n",
    "        \"adapter_id\": adapter_id,\n",
    "        \"adapter_source\": \"s3\"\n",
    "        }\n",
    "    }\n",
    "    lorax_predictor.predict(payload_adapter)"
   ]
  },
  {
   "cell_type": "markdown",
   "id": "82eeb399-7490-4697-9871-777038232200",
   "metadata": {},
   "source": [
    "Now we are ready to benchmark. For the single adapter case, we invoke the adapter `total_requests` times from `num_threads` concurrent clients.\n",
    "\n",
    "For the multi-adapter case, we invoke a random adapter from any of the clients, until all adapters have been invoked `total_requests//num_adapters` times."
   ]
  },
  {
   "cell_type": "code",
   "execution_count": null,
   "id": "c520c962-f064-4e8a-a9ce-2405084e3f82",
   "metadata": {},
   "outputs": [],
   "source": [
    "# Adjust if you run into connection pool errors\n",
    "# import botocore\n",
    "\n",
    "# Configure botocore to use a larger connection pool\n",
    "# config = botocore.config.Config(max_pool_connections=100)"
   ]
  },
  {
   "cell_type": "code",
   "execution_count": null,
   "id": "3c94ddaa-4d57-4139-8e76-b87593fb155e",
   "metadata": {},
   "outputs": [],
   "source": [
    "import threading\n",
    "import time\n",
    "import random\n",
    "\n",
    "\n",
    "# Configuration\n",
    "total_requests = 500\n",
    "num_adapters = 40\n",
    "num_threads = 20  # Adjust based on your system capabilities\n",
    "\n",
    "\n",
    "# Shared lock and counters for # invocations of each adapter \n",
    "adapter_counters = [total_requests // num_adapters] * num_adapters\n",
    "counters_lock = threading.Lock()\n",
    "\n",
    "def invoke_adapter(aggregate_latency, single_adapter=False):\n",
    "    global total_requests\n",
    "    latencies = []\n",
    "    while True:\n",
    "        with counters_lock:\n",
    "            if single_adapter:\n",
    "                adapter_id = 1\n",
    "                if total_requests > 0:\n",
    "                    total_requests -= 1\n",
    "                else:\n",
    "                    break\n",
    "            else:\n",
    "                # Find an adapter that still needs to be called\n",
    "                remaining_adapters = [i for i, count in enumerate(adapter_counters) if count > 0]\n",
    "                if not remaining_adapters:\n",
    "                    break\n",
    "                adapter_id = random.choice(remaining_adapters) + 1\n",
    "                adapter_counters[adapter_id - 1] -= 1\n",
    "\n",
    "        prompt = '[INST] Natalia sold clips to 48 of her friends in April, and then she sold half as many clips in May. How many clips did Natalia sell altogether in April and May? [/INST]'\n",
    "        invoke_adapter_id = f'{base_prefix}/0{i}' if i < 10 else f'{base_prefix}/{i}'\n",
    "        payload_adapter = {\n",
    "            \"inputs\": prompt,\n",
    "            \"parameters\": {\n",
    "                \"max_new_tokens\": 64,\n",
    "                \"adapter_id\": invoke_adapter_id,\n",
    "                \"adapter_source\": \"s3\"\n",
    "            }\n",
    "        }\n",
    "        start_time = time.time()\n",
    "        response_adapter = lorax_predictor.predict(payload_adapter)\n",
    "        latency = time.time() - start_time\n",
    "        latencies.append(latency)\n",
    "\n",
    "    aggregate_latency.extend(latencies)\n",
    "\n",
    "def benchmark_scenario(single_adapter=False):\n",
    "    threads = []\n",
    "    all_latencies = []\n",
    "    start_time = time.time()\n",
    "\n",
    "    for _ in range(num_threads):\n",
    "        thread_latencies = []\n",
    "        all_latencies.append(thread_latencies)\n",
    "        thread = threading.Thread(target=invoke_adapter, args=(thread_latencies, single_adapter))\n",
    "        threads.append(thread)\n",
    "        thread.start()\n",
    "\n",
    "    for thread in threads:\n",
    "        thread.join()\n",
    "\n",
    "    total_latency = sum([sum(latencies) for latencies in all_latencies])\n",
    "    total_requests_made = sum([len(latencies) for latencies in all_latencies])\n",
    "    average_latency = total_latency / total_requests_made\n",
    "    throughput = total_requests_made / (time.time() - start_time)\n",
    "\n",
    "    print(f\"Total Time: {time.time() - start_time}s\")\n",
    "    print(f\"Average Latency: {average_latency}s\")\n",
    "    print(f\"Throughput: {throughput} requests/s\")\n",
    "\n",
    "# Run benchmarks\n",
    "print(\"Benchmarking: Single Adapter Multiple Times\")\n",
    "benchmark_scenario(single_adapter=True)\n",
    "\n",
    "print(\"\\nBenchmarking: Multiple Adapters with Random Access\")\n",
    "benchmark_scenario()\n"
   ]
  },
  {
   "cell_type": "markdown",
   "id": "baee9521-f5ed-487b-ba84-5a834add3d78",
   "metadata": {},
   "source": [
    "<a id=\"cleanup\"></a>\n",
    "## Cleanup endpoint resources"
   ]
  },
  {
   "cell_type": "code",
   "execution_count": null,
   "id": "af920da7-c0ce-4f3f-9eea-297abb49b342",
   "metadata": {},
   "outputs": [],
   "source": [
    "#lorax_predictor.delete_endpoint()"
   ]
  }
 ],
 "metadata": {
  "kernelspec": {
   "display_name": "Python 3 (ipykernel)",
   "language": "python",
   "name": "python3"
  },
  "language_info": {
   "codemirror_mode": {
    "name": "ipython",
    "version": 3
   },
   "file_extension": ".py",
   "mimetype": "text/x-python",
   "name": "python",
   "nbconvert_exporter": "python",
   "pygments_lexer": "ipython3",
   "version": "3.10.14"
  }
 },
 "nbformat": 4,
 "nbformat_minor": 5
}
