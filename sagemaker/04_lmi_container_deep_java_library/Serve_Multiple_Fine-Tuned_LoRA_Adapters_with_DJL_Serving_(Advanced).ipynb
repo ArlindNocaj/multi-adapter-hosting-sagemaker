{
 "cells": [
  {
   "cell_type": "markdown",
   "id": "dbcb8323",
   "metadata": {},
   "source": [
    "#### docs.djl.ai\n",
    "### [Multi lora adapter inference advanced](https://docs.djl.ai/docs/demos/aws/sagemaker/large-model-inference/sample-llm/multi_lora_adapter_inference_advanced.html)\n",
    "#### 10–12 minutes\n",
    "\n",
    "# Serve Multiple Fine-Tuned LoRA Adapters with DJL Serving (Advanced)\n",
    "\n",
    "This notebook will demonstrate how you can deploy multiple fine-tuned LoRA adapters with a single base model copy on SageMaker using the DJL Serving Large Model Inference DLC. LoRA (Low Rank Adapters) is a powerful technique for fine-tuning large language models. This technique significantly reduces the number of trainable parameters compared to traditional fine-tuning while achieving comparable or superior performance. You can learn more about the LoRA technique in this paper.\n",
    "\n",
    "A major benefit of LoRA is that the fine-tuned adapters can easily be added to and removed from the base model, which makes switching adapters pretty cheap and viable at runtime. In this notebook we will show how you can deploy a SageMaker endpoint with a single base model and multiple LoRA adapters, and change adapters for different requests.\n",
    "\n",
    "Since LoRA adapters are much smaller than the size of a base model (can realistically be 100x-1000x smaller), we can deploy an endpoint with a single base model and multiple LoRA adapters using much less hardware than deploying an equivalent number of fully fine-tuned models.\n",
    "\n",
    "The example we will work through in this notebook is guided by the multi adapter example in HuggingFace's PEFT library: https://github.com/huggingface/peft/blob/main/examples/multi_adapter_examples/PEFT_Multi_LoRA_Inference.ipynb.\n",
    "\n",
    "This is the advanced notebook demonstrating the usage of a custom handler. For the basic usage, see the main adapters notebook."
   ]
  },
  {
   "cell_type": "markdown",
   "id": "2a4e2710",
   "metadata": {},
   "source": [
    "# Install Packages and Import Dependencies"
   ]
  },
  {
   "cell_type": "code",
   "execution_count": 1,
   "id": "bf980752-f8f1-4c1c-aee7-ba93cdb39f96",
   "metadata": {},
   "outputs": [],
   "source": [
    "!pip install huggingface_hub sagemaker boto3 awscli pandas --upgrade --quiet"
   ]
  },
  {
   "cell_type": "code",
   "execution_count": 2,
   "id": "21f1a572-3d90-401c-9ff7-191f494106dc",
   "metadata": {},
   "outputs": [
    {
     "name": "stdout",
     "output_type": "stream",
     "text": [
      "awscli                                1.33.22\n",
      "boto3                                 1.34.140\n",
      "pandas                                2.2.2\n",
      "sagemaker                             2.224.4\n"
     ]
    }
   ],
   "source": [
    "# show the versions of packages when notebook was run\n",
    "!pip list | grep \"huggingface_hub \\|sagemaker \\|boto3 \\|awscli \\|pandas \""
   ]
  },
  {
   "cell_type": "code",
   "execution_count": 3,
   "id": "87402615",
   "metadata": {},
   "outputs": [
    {
     "name": "stdout",
     "output_type": "stream",
     "text": [
      "sagemaker.config INFO - Not applying SDK defaults from location: /etc/xdg/sagemaker/config.yaml\n",
      "sagemaker.config INFO - Not applying SDK defaults from location: /home/sagemaker-user/.config/sagemaker/config.yaml\n"
     ]
    }
   ],
   "source": [
    "import sagemaker\n",
    "from sagemaker import image_uris\n",
    "import boto3\n",
    "import os\n",
    "import time\n",
    "import json\n",
    "from pathlib import Path\n",
    "from sagemaker.utils import name_from_base\n",
    "from huggingface_hub import snapshot_download"
   ]
  },
  {
   "cell_type": "markdown",
   "id": "9ab77daf",
   "metadata": {},
   "source": [
    "# Download Model Artifacts and Upload to S3\n",
    "\n",
    "We will be deploying an endpoint with 2 LoRA adapters. These are the models we will be using:\n",
    "- Base Model: https://huggingface.co/huggyllama/llama-7b\n",
    "- LoRA Fine Tuned Adapter 1: https://huggingface.co/tloen/alpaca-lora-7b\n",
    "- LoRA Fine Tuned Adapter 2: https://huggingface.co/22h/cabrita-lora-v0-1"
   ]
  },
  {
   "cell_type": "code",
   "execution_count": 4,
   "id": "29df117e",
   "metadata": {},
   "outputs": [
    {
     "name": "stderr",
     "output_type": "stream",
     "text": [
      "/opt/conda/lib/python3.10/site-packages/huggingface_hub/file_download.py:1194: UserWarning: `local_dir_use_symlinks` parameter is deprecated and will be ignored. The process to download files to a local folder has been updated and do not rely on symlinks anymore. You only need to pass a destination folder as`local_dir`.\n",
      "For more details, check out https://huggingface.co/docs/huggingface_hub/main/en/guides/download#download-files-to-local-folder.\n",
      "  warnings.warn(\n"
     ]
    },
    {
     "data": {
      "application/vnd.jupyter.widget-view+json": {
       "model_id": "70cc636efaab4ba0bf730b1a3ff182bb",
       "version_major": 2,
       "version_minor": 0
      },
      "text/plain": [
       "Fetching 4 files:   0%|          | 0/4 [00:00<?, ?it/s]"
      ]
     },
     "metadata": {},
     "output_type": "display_data"
    },
    {
     "data": {
      "application/vnd.jupyter.widget-view+json": {
       "model_id": "ca7ea330adfc4e86ab5d64c1e07433fb",
       "version_major": 2,
       "version_minor": 0
      },
      "text/plain": [
       "adapter_config.json:   0%|          | 0.00/399 [00:00<?, ?B/s]"
      ]
     },
     "metadata": {},
     "output_type": "display_data"
    },
    {
     "data": {
      "application/vnd.jupyter.widget-view+json": {
       "model_id": "4306b76aca514473b874527caadff1a2",
       "version_major": 2,
       "version_minor": 0
      },
      "text/plain": [
       ".gitattributes:   0%|          | 0.00/1.48k [00:00<?, ?B/s]"
      ]
     },
     "metadata": {},
     "output_type": "display_data"
    },
    {
     "data": {
      "application/vnd.jupyter.widget-view+json": {
       "model_id": "829fdb5e3e2345ba9397e3bebd42da5d",
       "version_major": 2,
       "version_minor": 0
      },
      "text/plain": [
       "README.md:   0%|          | 0.00/823 [00:00<?, ?B/s]"
      ]
     },
     "metadata": {},
     "output_type": "display_data"
    },
    {
     "data": {
      "application/vnd.jupyter.widget-view+json": {
       "model_id": "32eadfdde3324e9ba9fbf3cab0f330c3",
       "version_major": 2,
       "version_minor": 0
      },
      "text/plain": [
       "adapter_model.bin:   0%|          | 0.00/67.2M [00:00<?, ?B/s]"
      ]
     },
     "metadata": {},
     "output_type": "display_data"
    },
    {
     "data": {
      "application/vnd.jupyter.widget-view+json": {
       "model_id": "75496cba605442529f4d153e7a1df3d2",
       "version_major": 2,
       "version_minor": 0
      },
      "text/plain": [
       "Fetching 4 files:   0%|          | 0/4 [00:00<?, ?it/s]"
      ]
     },
     "metadata": {},
     "output_type": "display_data"
    },
    {
     "data": {
      "application/vnd.jupyter.widget-view+json": {
       "model_id": "71fe86ace1db406d85551ff5cd691e53",
       "version_major": 2,
       "version_minor": 0
      },
      "text/plain": [
       "README.md:   0%|          | 0.00/4.72k [00:00<?, ?B/s]"
      ]
     },
     "metadata": {},
     "output_type": "display_data"
    },
    {
     "data": {
      "application/vnd.jupyter.widget-view+json": {
       "model_id": "2ca56172e20646ff8716cd6888ac6e47",
       "version_major": 2,
       "version_minor": 0
      },
      "text/plain": [
       ".gitattributes:   0%|          | 0.00/1.48k [00:00<?, ?B/s]"
      ]
     },
     "metadata": {},
     "output_type": "display_data"
    },
    {
     "data": {
      "application/vnd.jupyter.widget-view+json": {
       "model_id": "92be6b47ae8e4e57bfa23273a435f23a",
       "version_major": 2,
       "version_minor": 0
      },
      "text/plain": [
       "adapter_config.json:   0%|          | 0.00/370 [00:00<?, ?B/s]"
      ]
     },
     "metadata": {},
     "output_type": "display_data"
    },
    {
     "data": {
      "application/vnd.jupyter.widget-view+json": {
       "model_id": "2816d62953594fcc926106f8f6eef5b0",
       "version_major": 2,
       "version_minor": 0
      },
      "text/plain": [
       "adapter_model.bin:   0%|          | 0.00/16.8M [00:00<?, ?B/s]"
      ]
     },
     "metadata": {},
     "output_type": "display_data"
    },
    {
     "data": {
      "text/plain": [
       "'/home/sagemaker-user/multi-adapter-hosting-sagemaker/sagemaker/04_lmi_container_deep_java_library/lora-multi-adapter/adapters/portuguese_alpaca'"
      ]
     },
     "execution_count": 4,
     "metadata": {},
     "output_type": "execute_result"
    }
   ],
   "source": [
    "!rm -rf lora-multi-adapter\n",
    "!mkdir -p lora-multi-adapter/adapters\n",
    "\n",
    "snapshot_download(\"tloen/alpaca-lora-7b\", local_dir=\"lora-multi-adapter/adapters/eng_alpaca\", local_dir_use_symlinks=False)\n",
    "snapshot_download(\"22h/cabrita-lora-v0-1\", local_dir=\"lora-multi-adapter/adapters/portuguese_alpaca\", local_dir_use_symlinks=False)"
   ]
  },
  {
   "cell_type": "markdown",
   "id": "123e0986",
   "metadata": {},
   "source": [
    "# Creating Inference Handler and DJL Serving Configuration\n",
    "\n",
    "The following files cover the model server configuration (serving.properties) and custom inference handler (model.py). The custom inference handler is optional and if not specified, default handler from djl-serving will be used. This configuration can be used as an example to write your own inference handler for different models.\n",
    "\n",
    "The core structure to cover here is the model directory. We include both the base model and LoRA adapters in the model directory like this:\n",
    "\n",
    "```\n",
    "|- model_dir\n",
    "    |- adapters/\n",
    "        |--- <adapter_1>/\n",
    "        |--- <adapter_2>/\n",
    "        |--- ...\n",
    "        |--- <adapter_n>/\n",
    "    |- serving.properties\n",
    "    |- model.py (optional)\n",
    "```\n",
    "Each of the adapters in the adapters directory contains the LoRA adapter artifacts. Typically there are two files: adapter_model.bin and adapter_config.json which are the adapter weights and adapter configuration respectively. These are typically obtained from the Peft library via the PeftModel.save_pretrained() method."
   ]
  },
  {
   "cell_type": "code",
   "execution_count": 5,
   "id": "674201e9",
   "metadata": {},
   "outputs": [
    {
     "name": "stdout",
     "output_type": "stream",
     "text": [
      "Writing lora-multi-adapter/serving.properties\n"
     ]
    }
   ],
   "source": [
    "%%writefile lora-multi-adapter/serving.properties\n",
    "engine=Python\n",
    "option.model_id=huggyllama/llama-7b\n",
    "option.dtype=fp16\n",
    "option.entryPoint=model.py\n",
    "option.tensor_parallel_degree=1\n",
    "load_on_devices=0"
   ]
  },
  {
   "cell_type": "code",
   "execution_count": 6,
   "id": "e0952210",
   "metadata": {},
   "outputs": [
    {
     "name": "stdout",
     "output_type": "stream",
     "text": [
      "Writing lora-multi-adapter/model.py\n"
     ]
    }
   ],
   "source": [
    "%%writefile lora-multi-adapter/model.py\n",
    "from transformers import LlamaTokenizer, LlamaForCausalLM, GenerationConfig\n",
    "from peft import PeftModel\n",
    "import torch\n",
    "import os\n",
    "from djl_python.inputs import Input\n",
    "from djl_python.outputs import Output\n",
    "import logging\n",
    "\n",
    "model = None\n",
    "tokenizer = None\n",
    "\n",
    "def generate_prompt(instruction, input=None):\n",
    "    if input:\n",
    "        return f\"\"\"Below is an instruction that describes a task, paired with an input that provides further context. \n",
    "        Write a response that appropriately completes the request. ### Instruction: {instruction} ### Input: {input} \n",
    "        ### Response:\"\"\"\n",
    "    else:\n",
    "        return f\"\"\"Below is an instruction that describes a task. Write a response that appropriately completes the \n",
    "        request.### Instruction: {instruction} ### Response:\"\"\"\n",
    "\n",
    "\n",
    "def evaluate(\n",
    "        instruction,\n",
    "        adapters,\n",
    "        input=None,\n",
    "        max_new_tokens=64,\n",
    "        **kwargs,\n",
    "):\n",
    "    prompts = []\n",
    "    for inp in instruction:\n",
    "        prompts.append(generate_prompt(inp, input))\n",
    "    inputs = tokenizer(prompts, return_tensors=\"pt\", padding=True)\n",
    "    input_ids = inputs[\"input_ids\"].to(torch.cuda.current_device())\n",
    "    attention_mask = inputs[\"attention_mask\"].to(torch.cuda.current_device())\n",
    "    generation_config = GenerationConfig(num_beams=1, do_sample=False)\n",
    "\n",
    "    logging.info(f\"using adapters: {adapters}\")\n",
    "    with torch.no_grad():\n",
    "        generation_output = model.generate(\n",
    "            input_ids=input_ids,\n",
    "            attention_mask=attention_mask,\n",
    "            adapters=adapters,\n",
    "            generation_config=generation_config,\n",
    "            max_new_tokens=max_new_tokens,\n",
    "        )\n",
    "    output = tokenizer.batch_decode(generation_output, skip_special_tokens=True)\n",
    "    return output\n",
    "\n",
    "\n",
    "def load_model(model_id):\n",
    "    model = LlamaForCausalLM.from_pretrained(\n",
    "        model_id,\n",
    "        low_cpu_mem_usage=True,\n",
    "        torch_dtype=torch.float16,\n",
    "        device_map=\"auto\"\n",
    "    )\n",
    "    tokenizer = LlamaTokenizer.from_pretrained(model_id)\n",
    "    if not tokenizer.pad_token:\n",
    "        tokenizer.pad_token = '[PAD]'\n",
    "    logging.info(f\"Loaded Base Model {model_id}\")\n",
    "    return model, tokenizer\n",
    "\n",
    "\n",
    "def register_adapter(inputs: Input):\n",
    "    \"\"\"\n",
    "    Registers lora adapter with the model.\n",
    "    \"\"\"\n",
    "    global model\n",
    "    adapter_name = inputs.get_property(\"name\")\n",
    "    adapter_model_id_or_path = inputs.get_property(\"src\")\n",
    "    logging.info(\n",
    "        f\"Registering adapter {adapter_name} from {adapter_model_id_or_path}\")\n",
    "    if isinstance(model, PeftModel):\n",
    "        model.load_adapter(adapter_model_id_or_path, adapter_name)\n",
    "    else:\n",
    "        model = PeftModel.from_pretrained(model,\n",
    "                                           adapter_model_id_or_path,\n",
    "                                           adapter_name)\n",
    "\n",
    "\n",
    "def handle(inputs: Input):\n",
    "    global model, tokenizer\n",
    "    if not model:\n",
    "        properties = inputs.get_properties()\n",
    "        model_id = properties.get(\"model_id\")\n",
    "        model, tokenizer = load_model(model_id)\n",
    "\n",
    "    if inputs.is_empty():\n",
    "        return None\n",
    "\n",
    "\n",
    "    json_inputs = inputs.get_as_json()\n",
    "    sentence = json_inputs.get(\"inputs\")\n",
    "    adapters = json_inputs.get(\"adapters\", [])\n",
    "    generation_kwargs = json_inputs.get(\"parameters\", {})\n",
    "    outputs = evaluate(sentence, adapters, **generation_kwargs)\n",
    "\n",
    "    return Output().add_as_json(outputs)"
   ]
  },
  {
   "cell_type": "code",
   "execution_count": 7,
   "id": "ec01a040",
   "metadata": {},
   "outputs": [
    {
     "name": "stdout",
     "output_type": "stream",
     "text": [
      "./\n",
      "./adapters/\n",
      "./adapters/eng_alpaca/\n",
      "./adapters/eng_alpaca/.huggingface/\n",
      "./adapters/eng_alpaca/.huggingface/.gitignore\n",
      "./adapters/eng_alpaca/.huggingface/download/\n",
      "./adapters/eng_alpaca/.huggingface/download/README.md.lock\n",
      "./adapters/eng_alpaca/.huggingface/download/adapter_model.bin.lock\n",
      "./adapters/eng_alpaca/.huggingface/download/adapter_config.json.lock\n",
      "./adapters/eng_alpaca/.huggingface/download/.gitattributes.lock\n",
      "./adapters/eng_alpaca/.huggingface/download/adapter_config.json.metadata\n",
      "./adapters/eng_alpaca/.huggingface/download/README.md.metadata\n",
      "./adapters/eng_alpaca/.huggingface/download/.gitattributes.metadata\n",
      "./adapters/eng_alpaca/.huggingface/download/adapter_model.bin.metadata\n",
      "./adapters/eng_alpaca/adapter_config.json\n",
      "./adapters/eng_alpaca/.gitattributes\n",
      "./adapters/eng_alpaca/README.md\n",
      "./adapters/eng_alpaca/adapter_model.bin\n",
      "./adapters/portuguese_alpaca/\n",
      "./adapters/portuguese_alpaca/.huggingface/\n",
      "./adapters/portuguese_alpaca/.huggingface/.gitignore\n",
      "./adapters/portuguese_alpaca/.huggingface/download/\n",
      "./adapters/portuguese_alpaca/.huggingface/download/README.md.lock\n",
      "./adapters/portuguese_alpaca/.huggingface/download/.gitattributes.lock\n",
      "./adapters/portuguese_alpaca/.huggingface/download/adapter_model.bin.lock\n",
      "./adapters/portuguese_alpaca/.huggingface/download/adapter_config.json.lock\n",
      "./adapters/portuguese_alpaca/.huggingface/download/README.md.metadata\n",
      "./adapters/portuguese_alpaca/.huggingface/download/.gitattributes.metadata\n",
      "./adapters/portuguese_alpaca/.huggingface/download/adapter_config.json.metadata\n",
      "./adapters/portuguese_alpaca/.huggingface/download/adapter_model.bin.metadata\n",
      "./adapters/portuguese_alpaca/README.md\n",
      "./adapters/portuguese_alpaca/.gitattributes\n",
      "./adapters/portuguese_alpaca/adapter_config.json\n",
      "./adapters/portuguese_alpaca/adapter_model.bin\n",
      "./serving.properties\n",
      "./model.py\n"
     ]
    }
   ],
   "source": [
    "!rm -f model.tar.gz\n",
    "!rm -rf lora-multi-adapter/.ipynb_checkpoints\n",
    "!tar czvf model.tar.gz -C lora-multi-adapter ."
   ]
  },
  {
   "cell_type": "markdown",
   "id": "d29b3ef0",
   "metadata": {},
   "source": [
    "# Create SageMaker Model and Endpoint"
   ]
  },
  {
   "cell_type": "code",
   "execution_count": 8,
   "id": "334fc195",
   "metadata": {},
   "outputs": [
    {
     "name": "stdout",
     "output_type": "stream",
     "text": [
      "endpoint_name: lora-multi-adapter-2024-07-06-09-09-51-502-endpoint\n"
     ]
    }
   ],
   "source": [
    "role = sagemaker.get_execution_role() # execution role for the endpoint\n",
    "sess = sagemaker.session.Session()  # sagemaker session for interacting with different AWS APIs\n",
    "bucket = sess.default_bucket()  # bucket to house artifacts\n",
    "model_bucket = sess.default_bucket()  # bucket to house artifacts\n",
    "s3_code_prefix = \"hf-large-model-djl/lora-multi-adapter\"  # folder within bucket where code artifact will go\n",
    "\n",
    "region = sess._region_name\n",
    "account_id = sess.account_id()\n",
    "\n",
    "s3_client = boto3.client(\"s3\")\n",
    "sm_client = boto3.client(\"sagemaker\")\n",
    "smr_client = boto3.client(\"sagemaker-runtime\")\n",
    "\n",
    "s3_code_artifact_accelerate = sess.upload_data(\"model.tar.gz\", bucket, s3_code_prefix)\n",
    "\n",
    "inference_image_uri = image_uris.retrieve(\n",
    "        framework=\"djl-deepspeed\",\n",
    "        region=region,\n",
    "        version=\"0.27.0\"\n",
    "    )\n",
    "model_name_acc = name_from_base(f\"lora-multi-adapter\")\n",
    "\n",
    "# LoRA Adapters feature is a preview feature and ENABLE_ADAPTERS_PREVIEW environmnet variable should be set to use it\n",
    "create_model_response = sm_client.create_model(\n",
    "    ModelName=model_name_acc,\n",
    "    ExecutionRoleArn=role,\n",
    "    PrimaryContainer={\"Image\": inference_image_uri,\n",
    "                      \"ModelDataUrl\": s3_code_artifact_accelerate,\n",
    "                     })\n",
    "model_arn = create_model_response[\"ModelArn\"]\n",
    "\n",
    "endpoint_config_name = f\"{model_name_acc}-config\"\n",
    "endpoint_name = f\"{model_name_acc}-endpoint\"\n",
    "\n",
    "endpoint_config_response = sm_client.create_endpoint_config(\n",
    "    EndpointConfigName=endpoint_config_name,\n",
    "    ProductionVariants=[\n",
    "        {\n",
    "            \"VariantName\": \"variant1\",\n",
    "            \"ModelName\": model_name_acc,\n",
    "            \"InstanceType\": \"ml.g5.12xlarge\",\n",
    "            \"InitialInstanceCount\": 1,\n",
    "            \"ModelDataDownloadTimeoutInSeconds\": 1800,\n",
    "            \"ContainerStartupHealthCheckTimeoutInSeconds\": 1800,\n",
    "        },\n",
    "    ],\n",
    ")\n",
    "\n",
    "print(f\"endpoint_name: {endpoint_name}\")"
   ]
  },
  {
   "cell_type": "code",
   "execution_count": 9,
   "id": "18f1265f-b821-4046-8a9d-0581316a1d8f",
   "metadata": {},
   "outputs": [],
   "source": [
    "create_endpoint_response = sm_client.create_endpoint(\n",
    "    EndpointName=f\"{endpoint_name}\", EndpointConfigName=endpoint_config_name\n",
    ")"
   ]
  },
  {
   "cell_type": "code",
   "execution_count": 10,
   "id": "2d123d4a-afbd-40dc-9e60-9bd756f791b3",
   "metadata": {},
   "outputs": [
    {
     "name": "stdout",
     "output_type": "stream",
     "text": [
      "Status: Creating\n",
      "Status: Creating\n",
      "Status: Creating\n",
      "Status: Creating\n",
      "Status: Creating\n",
      "Status: Creating\n",
      "Status: InService\n",
      "Arn: arn:aws:sagemaker:us-east-1:626723862963:endpoint/lora-multi-adapter-2024-07-06-09-09-51-502-endpoint\n",
      "Status: InService\n"
     ]
    }
   ],
   "source": [
    "import time \n",
    "\n",
    "resp = sm_client.describe_endpoint(EndpointName=endpoint_name)\n",
    "status = resp[\"EndpointStatus\"]\n",
    "print(\"Status: \" + status)\n",
    "\n",
    "while status == \"Creating\":\n",
    "    time.sleep(60)\n",
    "    resp = sm_client.describe_endpoint(EndpointName=endpoint_name)\n",
    "    status = resp[\"EndpointStatus\"]\n",
    "    print(\"Status: \" + status)\n",
    "\n",
    "print(\"Arn: \" + resp[\"EndpointArn\"])\n",
    "print(\"Status: \" + status)"
   ]
  },
  {
   "cell_type": "markdown",
   "id": "b61e82a4",
   "metadata": {},
   "source": [
    "# Make Inference Requests"
   ]
  },
  {
   "cell_type": "code",
   "execution_count": 11,
   "id": "16d873ca",
   "metadata": {},
   "outputs": [
    {
     "name": "stdout",
     "output_type": "stream",
     "text": [
      "CPU times: user 12 ms, sys: 2.83 ms, total: 14.8 ms\n",
      "Wall time: 5.13 s\n"
     ]
    }
   ],
   "source": [
    "%%time\n",
    "\n",
    "response_model = smr_client.invoke_endpoint(\n",
    "    EndpointName=endpoint_name,\n",
    "    Body=json.dumps({\"inputs\": [\"Tell me about Alpacas\", \"Invente uma desculpa criativa pra dizer que não preciso ir à festa.\", \"Tell me about AWS\"],\n",
    "                     \"adapters\": [\"eng_alpaca\", \"portuguese_alpaca\", \"eng_alpaca\"]}),\n",
    "    ContentType=\"application/json\",\n",
    ")\n",
    "\n",
    "content = response_model[\"Body\"].read().decode(\"utf-8\")"
   ]
  },
  {
   "cell_type": "code",
   "execution_count": 12,
   "id": "350331a7-cf8e-4d7c-81bb-01ca698df096",
   "metadata": {},
   "outputs": [
    {
     "data": {
      "text/html": [
       "<div>\n",
       "<style scoped>\n",
       "    .dataframe tbody tr th:only-of-type {\n",
       "        vertical-align: middle;\n",
       "    }\n",
       "\n",
       "    .dataframe tbody tr th {\n",
       "        vertical-align: top;\n",
       "    }\n",
       "\n",
       "    .dataframe thead th {\n",
       "        text-align: right;\n",
       "    }\n",
       "</style>\n",
       "<table border=\"1\" class=\"dataframe\">\n",
       "  <thead>\n",
       "    <tr style=\"text-align: right;\">\n",
       "      <th></th>\n",
       "      <th>0</th>\n",
       "    </tr>\n",
       "  </thead>\n",
       "  <tbody>\n",
       "    <tr>\n",
       "      <th>0</th>\n",
       "      <td>Below is an instruction that describes a task. Write a response that appropriately completes the \\n        request.### Instruction: Tell me about Alpacas ### Response: that Alpacas are\\n        small, cute, and fluffy animals native to South America. They are related to\\n        camels and llamas, and are prized for their soft, luxurious fleece. Alpacas are\\n        raised for their fleece,</td>\n",
       "    </tr>\n",
       "    <tr>\n",
       "      <th>1</th>\n",
       "      <td>Below is an instruction that describes a task. Write a response that appropriately completes the \\n        request.### Instruction: Invente uma desculpa criativa pra dizer que não preciso ir à festa. ### Response: Eu não posso ir à festa porque tenho que cuidar de minha avó. Eu tenho que cuidar dela porque ela está doente e não pode ir. Eu tenho que cuidar dela porque ela está doente e não pode ir. Eu tenho que cu</td>\n",
       "    </tr>\n",
       "    <tr>\n",
       "      <th>2</th>\n",
       "      <td>Below is an instruction that describes a task. Write a response that appropriately completes the \\n        request.### Instruction: Tell me about AWS ### Response: that Amazon Web Services (AWS) is a cloud computing platform that provides a wide range of services, including computing power, storage, databases, analytics, and more. AWS is used by businesses of all sizes to build and deploy applications, websites, and other services.</td>\n",
       "    </tr>\n",
       "  </tbody>\n",
       "</table>\n",
       "</div>"
      ],
      "text/plain": [
       "                                                                                                                                                                                                                                                                                                                                                                                                                                                     0\n",
       "0                                            Below is an instruction that describes a task. Write a response that appropriately completes the \\n        request.### Instruction: Tell me about Alpacas ### Response: that Alpacas are\\n        small, cute, and fluffy animals native to South America. They are related to\\n        camels and llamas, and are prized for their soft, luxurious fleece. Alpacas are\\n        raised for their fleece,\n",
       "1                    Below is an instruction that describes a task. Write a response that appropriately completes the \\n        request.### Instruction: Invente uma desculpa criativa pra dizer que não preciso ir à festa. ### Response: Eu não posso ir à festa porque tenho que cuidar de minha avó. Eu tenho que cuidar dela porque ela está doente e não pode ir. Eu tenho que cuidar dela porque ela está doente e não pode ir. Eu tenho que cu\n",
       "2  Below is an instruction that describes a task. Write a response that appropriately completes the \\n        request.### Instruction: Tell me about AWS ### Response: that Amazon Web Services (AWS) is a cloud computing platform that provides a wide range of services, including computing power, storage, databases, analytics, and more. AWS is used by businesses of all sizes to build and deploy applications, websites, and other services."
      ]
     },
     "execution_count": 12,
     "metadata": {},
     "output_type": "execute_result"
    }
   ],
   "source": [
    "import pandas as pd\n",
    "# Parse the JSON content\n",
    "parsed_content = json.loads(content)\n",
    "pd.set_option('max_colwidth', 800)\n",
    "pd.DataFrame(parsed_content)"
   ]
  },
  {
   "cell_type": "markdown",
   "id": "44b58d42",
   "metadata": {},
   "source": [
    "# Clean up Resources"
   ]
  },
  {
   "cell_type": "code",
   "execution_count": 13,
   "id": "2323b147",
   "metadata": {},
   "outputs": [
    {
     "data": {
      "text/plain": [
       "{'ResponseMetadata': {'RequestId': 'fda3a1a4-16ed-4d49-ac38-5aa1c1876091',\n",
       "  'HTTPStatusCode': 200,\n",
       "  'HTTPHeaders': {'x-amzn-requestid': 'fda3a1a4-16ed-4d49-ac38-5aa1c1876091',\n",
       "   'content-type': 'application/x-amz-json-1.1',\n",
       "   'date': 'Sat, 06 Jul 2024 09:15:59 GMT',\n",
       "   'content-length': '0'},\n",
       "  'RetryAttempts': 0}}"
      ]
     },
     "execution_count": 13,
     "metadata": {},
     "output_type": "execute_result"
    }
   ],
   "source": [
    "sm_client.delete_endpoint(EndpointName=endpoint_name)\n",
    "sm_client.delete_endpoint_config(EndpointConfigName=endpoint_config_name)"
   ]
  },
  {
   "cell_type": "code",
   "execution_count": null,
   "id": "e1b24b9e-fc3c-4d64-8d06-cfd06e570872",
   "metadata": {},
   "outputs": [],
   "source": []
  }
 ],
 "metadata": {
  "kernelspec": {
   "display_name": "Python 3 (ipykernel)",
   "language": "python",
   "name": "python3"
  },
  "language_info": {
   "codemirror_mode": {
    "name": "ipython",
    "version": 3
   },
   "file_extension": ".py",
   "mimetype": "text/x-python",
   "name": "python",
   "nbconvert_exporter": "python",
   "pygments_lexer": "ipython3",
   "version": "3.10.14"
  }
 },
 "nbformat": 4,
 "nbformat_minor": 5
}
